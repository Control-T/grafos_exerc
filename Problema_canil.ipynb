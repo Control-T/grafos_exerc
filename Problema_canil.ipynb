{
  "nbformat": 4,
  "nbformat_minor": 0,
  "metadata": {
    "colab": {
      "name": "Problema_canil.ipynb",
      "provenance": [],
      "collapsed_sections": []
    },
    "kernelspec": {
      "name": "python3",
      "display_name": "Python 3"
    },
    "language_info": {
      "name": "python"
    }
  },
  "cells": [
    {
      "cell_type": "code",
      "metadata": {
        "colab": {
          "base_uri": "https://localhost:8080/",
          "height": 319
        },
        "id": "xxo5B1mp-eMa",
        "outputId": "1db09c37-acdb-448b-beea-213d7bb31992"
      },
      "source": [
        "import networkx as nx\n",
        "import matplotlib.pyplot as plt\n",
        "\n",
        "G=nx.Graph()\n",
        "color_map = []\n",
        "colors_of_nodes={}\n",
        "\n",
        "colors = ['Red', 'Blue', 'Green', 'Yellow', 'Orange', 'Pink', 'Black', 'White', 'Gray', 'Purple', 'Brown', 'Navy']\n",
        "\n",
        "G.add_nodes_from(['A','B','C','D','E','F'])\n",
        "\n",
        "G.add_edges_from([('A','C'),('A','D'),('A','E'),('B','F'),('E','F'),('E','D')])\n",
        "\n",
        "def coloring(node, color):\n",
        "   for neighbor in G.neighbors(node):\n",
        "       color_of_neighbor = colors_of_nodes.get(neighbor, None)\n",
        "       if color_of_neighbor == color:\n",
        "          return False\n",
        "\n",
        "   return True\n",
        "\n",
        "def get_color_for_node(node):\n",
        "    for color in colors:\n",
        "       if coloring(node, color):\n",
        "          return color\n",
        "\n",
        "def main():\n",
        "    for node in G.nodes():\n",
        "        colors_of_nodes[node] = get_color_for_node(node)\n",
        "        color_map.append(get_color_for_node(node))\n",
        "    #print (colors_of_nodes)\n",
        "    nx.draw(G, with_labels=True, pos=nx.circular_layout(G), node_color= color_map , node_size= 600)\n",
        "    plt.draw()\n",
        "\n",
        "main()  "
      ],
      "execution_count": null,
      "outputs": [
        {
          "output_type": "display_data",
          "data": {
            "image/png": "[encoded data removed]",
            "text/plain": [
              "<Figure size 432x288 with 1 Axes>"
            ]
          },
          "metadata": {
            "tags": []
          }
        }
      ]
    },
    {
      "cell_type": "code",
      "metadata": {
        "id": "h_kj7j19_aCL"
      },
      "source": [
        ""
      ],
      "execution_count": null,
      "outputs": []
    }
  ]
}